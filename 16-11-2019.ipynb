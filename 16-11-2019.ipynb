{
 "cells": [
  {
   "cell_type": "markdown",
   "metadata": {},
   "source": [
    "# RFM ANALYSIS\n",
    "- Recency\n",
    "- Frequncy\n",
    "- Monetary"
   ]
  },
  {
   "cell_type": "code",
   "execution_count": 1,
   "metadata": {},
   "outputs": [],
   "source": [
    "# import the required packages\n",
    "import pandas as pd\n",
    "import numpy as np\n",
    "import matplotlib.pyplot as plt\n",
    "import seaborn as sns"
   ]
  },
  {
   "cell_type": "code",
   "execution_count": 2,
   "metadata": {},
   "outputs": [
    {
     "data": {
      "text/plain": [
       "(541909, 8)"
      ]
     },
     "execution_count": 2,
     "metadata": {},
     "output_type": "execute_result"
    }
   ],
   "source": [
    "# read the Online+RetailData\n",
    "# github.com/sumathi16\n",
    "url ='https://media.githubusercontent.com/media/sumathi16/ML_FDP_SVEC/master/Online%2BRetail.csv'\n",
    "data = pd.read_csv(url,encoding='ISO-8859-1')\n",
    "data.shape"
   ]
  },
  {
   "cell_type": "code",
   "execution_count": 4,
   "metadata": {},
   "outputs": [
    {
     "data": {
      "text/plain": [
       "Index(['InvoiceNo', 'StockCode', 'Description', 'Quantity', 'InvoiceDate',\n",
       "       'UnitPrice', 'CustomerID', 'Country'],\n",
       "      dtype='object')"
      ]
     },
     "execution_count": 4,
     "metadata": {},
     "output_type": "execute_result"
    }
   ],
   "source": [
    "# Check the features\n",
    "data.columns"
   ]
  },
  {
   "cell_type": "code",
   "execution_count": 5,
   "metadata": {
    "collapsed": true
   },
   "outputs": [
    {
     "data": {
      "text/plain": [
       "InvoiceNo       object\n",
       "StockCode       object\n",
       "Description     object\n",
       "Quantity         int64\n",
       "InvoiceDate     object\n",
       "UnitPrice      float64\n",
       "CustomerID     float64\n",
       "Country         object\n",
       "dtype: object"
      ]
     },
     "execution_count": 5,
     "metadata": {},
     "output_type": "execute_result"
    }
   ],
   "source": [
    "# observe the type of the data\n",
    "data.dtypes"
   ]
  },
  {
   "cell_type": "code",
   "execution_count": 6,
   "metadata": {},
   "outputs": [
    {
     "data": {
      "text/plain": [
       "4372"
      ]
     },
     "execution_count": 6,
     "metadata": {},
     "output_type": "execute_result"
    }
   ],
   "source": [
    "# Calculate the number of customers\n",
    "data.CustomerID.nunique()"
   ]
  },
  {
   "cell_type": "code",
   "execution_count": 7,
   "metadata": {
    "collapsed": true
   },
   "outputs": [
    {
     "data": {
      "text/plain": [
       "InvoiceNo           0\n",
       "StockCode           0\n",
       "Description      1454\n",
       "Quantity            0\n",
       "InvoiceDate         0\n",
       "UnitPrice           0\n",
       "CustomerID     135080\n",
       "Country             0\n",
       "dtype: int64"
      ]
     },
     "execution_count": 7,
     "metadata": {},
     "output_type": "execute_result"
    }
   ],
   "source": [
    "# Misisng values\n",
    "data.isnull().sum()"
   ]
  },
  {
   "cell_type": "code",
   "execution_count": 10,
   "metadata": {},
   "outputs": [],
   "source": [
    "# Remove the missing values\n",
    "data.dropna(inplace=True)"
   ]
  },
  {
   "cell_type": "code",
   "execution_count": 11,
   "metadata": {},
   "outputs": [
    {
     "data": {
      "text/plain": [
       "(406829, 8)"
      ]
     },
     "execution_count": 11,
     "metadata": {},
     "output_type": "execute_result"
    }
   ],
   "source": [
    "# Check the number of rows and columns after removing the missing values\n",
    "data.shape"
   ]
  },
  {
   "cell_type": "code",
   "execution_count": 12,
   "metadata": {},
   "outputs": [
    {
     "data": {
      "text/plain": [
       "0    01-12-2010 08:26\n",
       "1    01-12-2010 08:26\n",
       "2    01-12-2010 08:26\n",
       "3    01-12-2010 08:26\n",
       "4    01-12-2010 08:26\n",
       "Name: InvoiceDate, dtype: object"
      ]
     },
     "execution_count": 12,
     "metadata": {},
     "output_type": "execute_result"
    }
   ],
   "source": [
    "#observe the dates in invoice column\n",
    "data.InvoiceDate[:5]"
   ]
  },
  {
   "cell_type": "code",
   "execution_count": 13,
   "metadata": {
    "collapsed": true
   },
   "outputs": [
    {
     "data": {
      "text/plain": [
       "365767    28-09-2011 16:07\n",
       "483649    20-11-2011 12:37\n",
       "308825    22-08-2011 13:40\n",
       "377469    05-10-2011 08:17\n",
       "404106    18-10-2011 13:10\n",
       "Name: InvoiceDate, dtype: object"
      ]
     },
     "execution_count": 13,
     "metadata": {},
     "output_type": "execute_result"
    }
   ],
   "source": [
    "data.InvoiceDate.sample(5)"
   ]
  },
  {
   "cell_type": "code",
   "execution_count": 16,
   "metadata": {
    "collapsed": true
   },
   "outputs": [
    {
     "data": {
      "text/plain": [
       "0   2010-12-01 08:26:00\n",
       "1   2010-12-01 08:26:00\n",
       "2   2010-12-01 08:26:00\n",
       "3   2010-12-01 08:26:00\n",
       "4   2010-12-01 08:26:00\n",
       "Name: InvoiceDate, dtype: datetime64[ns]"
      ]
     },
     "execution_count": 16,
     "metadata": {},
     "output_type": "execute_result"
    }
   ],
   "source": [
    "pd.to_datetime(data.InvoiceDate[:5],format='%d-%m-%Y %H:%M')"
   ]
  },
  {
   "cell_type": "code",
   "execution_count": 17,
   "metadata": {
    "collapsed": true
   },
   "outputs": [
    {
     "name": "stdout",
     "output_type": "stream",
     "text": [
      "<class 'pandas.core.series.Series'>\n",
      "<class 'pandas.core.series.Series'>\n"
     ]
    }
   ],
   "source": [
    "# convert the InvoiceDate column into datetime object\n",
    "print(data.InvoiceDate.dtype)\n",
    "data.InvoiceDate = pd.to_datetime(data.InvoiceDate,format='%d-%m-%Y %H:%M')\n",
    "print(data.InvoiceDate.dtype)"
   ]
  },
  {
   "cell_type": "code",
   "execution_count": 18,
   "metadata": {},
   "outputs": [
    {
     "name": "stdout",
     "output_type": "stream",
     "text": [
      "datetime64[ns]\n"
     ]
    }
   ],
   "source": [
    "print(data.InvoiceDate.dtype)"
   ]
  },
  {
   "cell_type": "markdown",
   "metadata": {},
   "source": [
    "#### Monetary"
   ]
  },
  {
   "cell_type": "code",
   "execution_count": 19,
   "metadata": {
    "collapsed": true
   },
   "outputs": [
    {
     "data": {
      "text/plain": [
       "0    15.30\n",
       "1    20.34\n",
       "2    22.00\n",
       "3    20.34\n",
       "4    20.34\n",
       "Name: Total, dtype: float64"
      ]
     },
     "execution_count": 19,
     "metadata": {},
     "output_type": "execute_result"
    }
   ],
   "source": [
    "data ['Total'] = data.Quantity * data.UnitPrice\n",
    "data.Total[:5]"
   ]
  },
  {
   "cell_type": "code",
   "execution_count": 20,
   "metadata": {
    "collapsed": true
   },
   "outputs": [
    {
     "data": {
      "text/html": [
       "<div>\n",
       "<style scoped>\n",
       "    .dataframe tbody tr th:only-of-type {\n",
       "        vertical-align: middle;\n",
       "    }\n",
       "\n",
       "    .dataframe tbody tr th {\n",
       "        vertical-align: top;\n",
       "    }\n",
       "\n",
       "    .dataframe thead th {\n",
       "        text-align: right;\n",
       "    }\n",
       "</style>\n",
       "<table border=\"1\" class=\"dataframe\">\n",
       "  <thead>\n",
       "    <tr style=\"text-align: right;\">\n",
       "      <th></th>\n",
       "      <th>UnitPrice</th>\n",
       "      <th>Quantity</th>\n",
       "      <th>Total</th>\n",
       "    </tr>\n",
       "  </thead>\n",
       "  <tbody>\n",
       "    <tr>\n",
       "      <th>0</th>\n",
       "      <td>2.55</td>\n",
       "      <td>6</td>\n",
       "      <td>15.30</td>\n",
       "    </tr>\n",
       "    <tr>\n",
       "      <th>1</th>\n",
       "      <td>3.39</td>\n",
       "      <td>6</td>\n",
       "      <td>20.34</td>\n",
       "    </tr>\n",
       "    <tr>\n",
       "      <th>2</th>\n",
       "      <td>2.75</td>\n",
       "      <td>8</td>\n",
       "      <td>22.00</td>\n",
       "    </tr>\n",
       "    <tr>\n",
       "      <th>3</th>\n",
       "      <td>3.39</td>\n",
       "      <td>6</td>\n",
       "      <td>20.34</td>\n",
       "    </tr>\n",
       "    <tr>\n",
       "      <th>4</th>\n",
       "      <td>3.39</td>\n",
       "      <td>6</td>\n",
       "      <td>20.34</td>\n",
       "    </tr>\n",
       "  </tbody>\n",
       "</table>\n",
       "</div>"
      ],
      "text/plain": [
       "   UnitPrice  Quantity  Total\n",
       "0       2.55         6  15.30\n",
       "1       3.39         6  20.34\n",
       "2       2.75         8  22.00\n",
       "3       3.39         6  20.34\n",
       "4       3.39         6  20.34"
      ]
     },
     "execution_count": 20,
     "metadata": {},
     "output_type": "execute_result"
    }
   ],
   "source": [
    "data[['UnitPrice','Quantity','Total']][:5]"
   ]
  },
  {
   "cell_type": "markdown",
   "metadata": {},
   "source": [
    "##### Grouping using Pandas"
   ]
  },
  {
   "cell_type": "code",
   "execution_count": 25,
   "metadata": {},
   "outputs": [
    {
     "data": {
      "text/plain": [
       "pandas.core.series.Series"
      ]
     },
     "execution_count": 25,
     "metadata": {},
     "output_type": "execute_result"
    }
   ],
   "source": [
    "Monetary = data.groupby('CustomerID').Total.sum()\n",
    "type(Monetary)"
   ]
  },
  {
   "cell_type": "code",
   "execution_count": 29,
   "metadata": {
    "collapsed": true
   },
   "outputs": [
    {
     "data": {
      "text/plain": [
       "CustomerID\n",
       "12346.0    0.000000e+00\n",
       "12347.0    4.310000e+03\n",
       "12348.0    1.797240e+03\n",
       "12349.0    1.757550e+03\n",
       "12350.0    3.344000e+02\n",
       "12352.0    1.545410e+03\n",
       "12353.0    8.900000e+01\n",
       "12354.0    1.079400e+03\n",
       "12355.0    4.594000e+02\n",
       "12356.0    2.811430e+03\n",
       "12357.0    6.207670e+03\n",
       "12358.0    1.168060e+03\n",
       "12359.0    6.245530e+03\n",
       "12360.0    2.662060e+03\n",
       "12361.0    1.899000e+02\n",
       "12362.0    5.154580e+03\n",
       "12363.0    5.520000e+02\n",
       "12364.0    1.313100e+03\n",
       "12365.0    3.206900e+02\n",
       "12367.0    1.689000e+02\n",
       "12370.0    3.545690e+03\n",
       "12371.0    1.887960e+03\n",
       "12372.0    1.298040e+03\n",
       "12373.0    3.646000e+02\n",
       "12374.0    7.429300e+02\n",
       "12375.0    4.554200e+02\n",
       "12377.0    1.628120e+03\n",
       "12378.0    4.008620e+03\n",
       "12379.0    8.502900e+02\n",
       "12380.0    2.720560e+03\n",
       "               ...     \n",
       "18245.0    2.507560e+03\n",
       "18246.0    5.961000e+02\n",
       "18248.0    7.830200e+02\n",
       "18249.0    9.534000e+01\n",
       "18250.0    3.429200e+02\n",
       "18251.0    4.314720e+03\n",
       "18252.0    5.266700e+02\n",
       "18255.0    1.033000e+02\n",
       "18256.0   -5.010000e+01\n",
       "18257.0    2.265380e+03\n",
       "18259.0    2.338600e+03\n",
       "18260.0    2.595000e+03\n",
       "18261.0    3.242400e+02\n",
       "18262.0    1.494800e+02\n",
       "18263.0    1.211080e+03\n",
       "18265.0    8.015100e+02\n",
       "18268.0    0.000000e+00\n",
       "18269.0    1.389000e+02\n",
       "18270.0    2.389500e+02\n",
       "18272.0    3.064780e+03\n",
       "18273.0    2.040000e+02\n",
       "18274.0    1.243450e-14\n",
       "18276.0    3.233600e+02\n",
       "18277.0    9.763000e+01\n",
       "18278.0    1.739000e+02\n",
       "18280.0    1.806000e+02\n",
       "18281.0    8.082000e+01\n",
       "18282.0    1.766000e+02\n",
       "18283.0    2.094880e+03\n",
       "18287.0    1.837280e+03\n",
       "Name: Total, Length: 4372, dtype: float64"
      ]
     },
     "execution_count": 29,
     "metadata": {},
     "output_type": "execute_result"
    }
   ],
   "source": [
    "Monetary"
   ]
  },
  {
   "cell_type": "code",
   "execution_count": 33,
   "metadata": {
    "collapsed": true
   },
   "outputs": [
    {
     "data": {
      "text/html": [
       "<div>\n",
       "<style scoped>\n",
       "    .dataframe tbody tr th:only-of-type {\n",
       "        vertical-align: middle;\n",
       "    }\n",
       "\n",
       "    .dataframe tbody tr th {\n",
       "        vertical-align: top;\n",
       "    }\n",
       "\n",
       "    .dataframe thead th {\n",
       "        text-align: right;\n",
       "    }\n",
       "</style>\n",
       "<table border=\"1\" class=\"dataframe\">\n",
       "  <thead>\n",
       "    <tr style=\"text-align: right;\">\n",
       "      <th></th>\n",
       "      <th>CustomerID</th>\n",
       "      <th>Total</th>\n",
       "    </tr>\n",
       "  </thead>\n",
       "  <tbody>\n",
       "    <tr>\n",
       "      <th>0</th>\n",
       "      <td>12346.0</td>\n",
       "      <td>0.00</td>\n",
       "    </tr>\n",
       "    <tr>\n",
       "      <th>1</th>\n",
       "      <td>12347.0</td>\n",
       "      <td>4310.00</td>\n",
       "    </tr>\n",
       "    <tr>\n",
       "      <th>2</th>\n",
       "      <td>12348.0</td>\n",
       "      <td>1797.24</td>\n",
       "    </tr>\n",
       "    <tr>\n",
       "      <th>3</th>\n",
       "      <td>12349.0</td>\n",
       "      <td>1757.55</td>\n",
       "    </tr>\n",
       "    <tr>\n",
       "      <th>4</th>\n",
       "      <td>12350.0</td>\n",
       "      <td>334.40</td>\n",
       "    </tr>\n",
       "  </tbody>\n",
       "</table>\n",
       "</div>"
      ],
      "text/plain": [
       "   CustomerID    Total\n",
       "0     12346.0     0.00\n",
       "1     12347.0  4310.00\n",
       "2     12348.0  1797.24\n",
       "3     12349.0  1757.55\n",
       "4     12350.0   334.40"
      ]
     },
     "execution_count": 33,
     "metadata": {},
     "output_type": "execute_result"
    }
   ],
   "source": [
    "Monetary = Monetary.reset_index()\n",
    "Monetary.head()"
   ]
  },
  {
   "cell_type": "markdown",
   "metadata": {},
   "source": [
    "##### Frequency"
   ]
  },
  {
   "cell_type": "code",
   "execution_count": 49,
   "metadata": {},
   "outputs": [
    {
     "data": {
      "text/plain": [
       "22190"
      ]
     },
     "execution_count": 49,
     "metadata": {},
     "output_type": "execute_result"
    }
   ],
   "source": [
    "data.InvoiceNo.nunique()"
   ]
  },
  {
   "cell_type": "code",
   "execution_count": 50,
   "metadata": {},
   "outputs": [
    {
     "data": {
      "text/plain": [
       "pandas.core.series.Series"
      ]
     },
     "execution_count": 50,
     "metadata": {},
     "output_type": "execute_result"
    }
   ],
   "source": [
    "Frequency = data.groupby('CustomerID').InvoiceNo.count()\n",
    "type(Frequency)"
   ]
  },
  {
   "cell_type": "code",
   "execution_count": 51,
   "metadata": {
    "collapsed": true
   },
   "outputs": [
    {
     "data": {
      "text/plain": [
       "CustomerID\n",
       "12346.0      2\n",
       "12347.0    182\n",
       "12348.0     31\n",
       "12349.0     73\n",
       "12350.0     17\n",
       "12352.0     95\n",
       "12353.0      4\n",
       "12354.0     58\n",
       "12355.0     13\n",
       "12356.0     59\n",
       "12357.0    131\n",
       "12358.0     19\n",
       "12359.0    254\n",
       "12360.0    129\n",
       "12361.0     10\n",
       "12362.0    274\n",
       "12363.0     23\n",
       "12364.0     85\n",
       "12365.0     23\n",
       "12367.0     11\n",
       "12370.0    167\n",
       "12371.0     63\n",
       "12372.0     52\n",
       "12373.0     14\n",
       "12374.0     33\n",
       "12375.0     18\n",
       "12377.0     77\n",
       "12378.0    219\n",
       "12379.0     41\n",
       "12380.0    105\n",
       "          ... \n",
       "18245.0    177\n",
       "18246.0      4\n",
       "18248.0     49\n",
       "18249.0      8\n",
       "18250.0     22\n",
       "18251.0     16\n",
       "18252.0     98\n",
       "18255.0      6\n",
       "18256.0      4\n",
       "18257.0    123\n",
       "18259.0     42\n",
       "18260.0    140\n",
       "18261.0     21\n",
       "18262.0     13\n",
       "18263.0     62\n",
       "18265.0     46\n",
       "18268.0      2\n",
       "18269.0      8\n",
       "18270.0     13\n",
       "18272.0    170\n",
       "18273.0      3\n",
       "18274.0     22\n",
       "18276.0     16\n",
       "18277.0      9\n",
       "18278.0      9\n",
       "18280.0     10\n",
       "18281.0      7\n",
       "18282.0     13\n",
       "18283.0    756\n",
       "18287.0     70\n",
       "Name: InvoiceNo, Length: 4372, dtype: int64"
      ]
     },
     "execution_count": 51,
     "metadata": {},
     "output_type": "execute_result"
    }
   ],
   "source": [
    "Frequency"
   ]
  },
  {
   "cell_type": "code",
   "execution_count": 52,
   "metadata": {
    "collapsed": true
   },
   "outputs": [
    {
     "data": {
      "text/html": [
       "<div>\n",
       "<style scoped>\n",
       "    .dataframe tbody tr th:only-of-type {\n",
       "        vertical-align: middle;\n",
       "    }\n",
       "\n",
       "    .dataframe tbody tr th {\n",
       "        vertical-align: top;\n",
       "    }\n",
       "\n",
       "    .dataframe thead th {\n",
       "        text-align: right;\n",
       "    }\n",
       "</style>\n",
       "<table border=\"1\" class=\"dataframe\">\n",
       "  <thead>\n",
       "    <tr style=\"text-align: right;\">\n",
       "      <th></th>\n",
       "      <th>CustomerID</th>\n",
       "      <th>InvoiceNo</th>\n",
       "    </tr>\n",
       "  </thead>\n",
       "  <tbody>\n",
       "    <tr>\n",
       "      <th>0</th>\n",
       "      <td>12346.0</td>\n",
       "      <td>2</td>\n",
       "    </tr>\n",
       "    <tr>\n",
       "      <th>1</th>\n",
       "      <td>12347.0</td>\n",
       "      <td>182</td>\n",
       "    </tr>\n",
       "    <tr>\n",
       "      <th>2</th>\n",
       "      <td>12348.0</td>\n",
       "      <td>31</td>\n",
       "    </tr>\n",
       "    <tr>\n",
       "      <th>3</th>\n",
       "      <td>12349.0</td>\n",
       "      <td>73</td>\n",
       "    </tr>\n",
       "    <tr>\n",
       "      <th>4</th>\n",
       "      <td>12350.0</td>\n",
       "      <td>17</td>\n",
       "    </tr>\n",
       "  </tbody>\n",
       "</table>\n",
       "</div>"
      ],
      "text/plain": [
       "   CustomerID  InvoiceNo\n",
       "0     12346.0          2\n",
       "1     12347.0        182\n",
       "2     12348.0         31\n",
       "3     12349.0         73\n",
       "4     12350.0         17"
      ]
     },
     "execution_count": 52,
     "metadata": {},
     "output_type": "execute_result"
    }
   ],
   "source": [
    "Frequency = Frequency.reset_index()\n",
    "Frequency.head()"
   ]
  },
  {
   "cell_type": "markdown",
   "metadata": {},
   "source": [
    "##### Recency"
   ]
  },
  {
   "cell_type": "code",
   "execution_count": 38,
   "metadata": {},
   "outputs": [
    {
     "data": {
      "text/plain": [
       "Timestamp('2011-12-09 12:50:00')"
      ]
     },
     "execution_count": 38,
     "metadata": {},
     "output_type": "execute_result"
    }
   ],
   "source": [
    "data.InvoiceDate.max()"
   ]
  },
  {
   "cell_type": "code",
   "execution_count": 39,
   "metadata": {
    "collapsed": true
   },
   "outputs": [
    {
     "data": {
      "text/plain": [
       "0   373 days 04:24:00\n",
       "1   373 days 04:24:00\n",
       "2   373 days 04:24:00\n",
       "3   373 days 04:24:00\n",
       "4   373 days 04:24:00\n",
       "Name: LastPurchase, dtype: timedelta64[ns]"
      ]
     },
     "execution_count": 39,
     "metadata": {},
     "output_type": "execute_result"
    }
   ],
   "source": [
    "data['LastPurchase'] =  data.InvoiceDate.max() - data.InvoiceDate\n",
    "data['LastPurchase'][:5]"
   ]
  },
  {
   "cell_type": "code",
   "execution_count": 44,
   "metadata": {
    "collapsed": true
   },
   "outputs": [
    {
     "data": {
      "text/plain": [
       "0    374\n",
       "1    374\n",
       "2    374\n",
       "3    374\n",
       "4    374\n",
       "Name: LastPurchase, dtype: int64"
      ]
     },
     "execution_count": 44,
     "metadata": {},
     "output_type": "execute_result"
    }
   ],
   "source": [
    "data['LastPurchase'] = data['LastPurchase'].dt.days + 1\n",
    "data['LastPurchase'][:5]"
   ]
  },
  {
   "cell_type": "code",
   "execution_count": 48,
   "metadata": {
    "collapsed": true
   },
   "outputs": [
    {
     "data": {
      "text/html": [
       "<div>\n",
       "<style scoped>\n",
       "    .dataframe tbody tr th:only-of-type {\n",
       "        vertical-align: middle;\n",
       "    }\n",
       "\n",
       "    .dataframe tbody tr th {\n",
       "        vertical-align: top;\n",
       "    }\n",
       "\n",
       "    .dataframe thead th {\n",
       "        text-align: right;\n",
       "    }\n",
       "</style>\n",
       "<table border=\"1\" class=\"dataframe\">\n",
       "  <thead>\n",
       "    <tr style=\"text-align: right;\">\n",
       "      <th></th>\n",
       "      <th>CustomerID</th>\n",
       "      <th>LastPurchase</th>\n",
       "    </tr>\n",
       "  </thead>\n",
       "  <tbody>\n",
       "    <tr>\n",
       "      <th>0</th>\n",
       "      <td>12346.0</td>\n",
       "      <td>326</td>\n",
       "    </tr>\n",
       "    <tr>\n",
       "      <th>1</th>\n",
       "      <td>12347.0</td>\n",
       "      <td>2</td>\n",
       "    </tr>\n",
       "    <tr>\n",
       "      <th>2</th>\n",
       "      <td>12348.0</td>\n",
       "      <td>75</td>\n",
       "    </tr>\n",
       "    <tr>\n",
       "      <th>3</th>\n",
       "      <td>12349.0</td>\n",
       "      <td>19</td>\n",
       "    </tr>\n",
       "    <tr>\n",
       "      <th>4</th>\n",
       "      <td>12350.0</td>\n",
       "      <td>310</td>\n",
       "    </tr>\n",
       "  </tbody>\n",
       "</table>\n",
       "</div>"
      ],
      "text/plain": [
       "   CustomerID  LastPurchase\n",
       "0     12346.0           326\n",
       "1     12347.0             2\n",
       "2     12348.0            75\n",
       "3     12349.0            19\n",
       "4     12350.0           310"
      ]
     },
     "execution_count": 48,
     "metadata": {},
     "output_type": "execute_result"
    }
   ],
   "source": [
    "Recency = data.groupby('CustomerID').LastPurchase.min()\n",
    "Recency =Recency.reset_index()\n",
    "Recency.head()"
   ]
  },
  {
   "cell_type": "markdown",
   "metadata": {},
   "source": [
    "##### Creating Dataframe with columns Recency,Frequency,Monetary, CustomerID"
   ]
  },
  {
   "cell_type": "code",
   "execution_count": 53,
   "metadata": {
    "collapsed": true
   },
   "outputs": [
    {
     "data": {
      "text/html": [
       "<div>\n",
       "<style scoped>\n",
       "    .dataframe tbody tr th:only-of-type {\n",
       "        vertical-align: middle;\n",
       "    }\n",
       "\n",
       "    .dataframe tbody tr th {\n",
       "        vertical-align: top;\n",
       "    }\n",
       "\n",
       "    .dataframe thead th {\n",
       "        text-align: right;\n",
       "    }\n",
       "</style>\n",
       "<table border=\"1\" class=\"dataframe\">\n",
       "  <thead>\n",
       "    <tr style=\"text-align: right;\">\n",
       "      <th></th>\n",
       "      <th>CustomerID</th>\n",
       "      <th>Total</th>\n",
       "      <th>InvoiceNo</th>\n",
       "      <th>LastPurchase</th>\n",
       "    </tr>\n",
       "  </thead>\n",
       "  <tbody>\n",
       "    <tr>\n",
       "      <th>count</th>\n",
       "      <td>4372.000000</td>\n",
       "      <td>4372.000000</td>\n",
       "      <td>4372.000000</td>\n",
       "      <td>4372.000000</td>\n",
       "    </tr>\n",
       "    <tr>\n",
       "      <th>mean</th>\n",
       "      <td>15299.677722</td>\n",
       "      <td>1898.459701</td>\n",
       "      <td>93.053294</td>\n",
       "      <td>92.047118</td>\n",
       "    </tr>\n",
       "    <tr>\n",
       "      <th>std</th>\n",
       "      <td>1722.390705</td>\n",
       "      <td>8219.345141</td>\n",
       "      <td>232.471608</td>\n",
       "      <td>100.765435</td>\n",
       "    </tr>\n",
       "    <tr>\n",
       "      <th>min</th>\n",
       "      <td>12346.000000</td>\n",
       "      <td>-4287.630000</td>\n",
       "      <td>1.000000</td>\n",
       "      <td>1.000000</td>\n",
       "    </tr>\n",
       "    <tr>\n",
       "      <th>25%</th>\n",
       "      <td>13812.750000</td>\n",
       "      <td>293.362500</td>\n",
       "      <td>17.000000</td>\n",
       "      <td>17.000000</td>\n",
       "    </tr>\n",
       "    <tr>\n",
       "      <th>50%</th>\n",
       "      <td>15300.500000</td>\n",
       "      <td>648.075000</td>\n",
       "      <td>42.000000</td>\n",
       "      <td>50.000000</td>\n",
       "    </tr>\n",
       "    <tr>\n",
       "      <th>75%</th>\n",
       "      <td>16778.250000</td>\n",
       "      <td>1611.725000</td>\n",
       "      <td>102.000000</td>\n",
       "      <td>143.000000</td>\n",
       "    </tr>\n",
       "    <tr>\n",
       "      <th>max</th>\n",
       "      <td>18287.000000</td>\n",
       "      <td>279489.020000</td>\n",
       "      <td>7983.000000</td>\n",
       "      <td>374.000000</td>\n",
       "    </tr>\n",
       "  </tbody>\n",
       "</table>\n",
       "</div>"
      ],
      "text/plain": [
       "         CustomerID          Total    InvoiceNo  LastPurchase\n",
       "count   4372.000000    4372.000000  4372.000000   4372.000000\n",
       "mean   15299.677722    1898.459701    93.053294     92.047118\n",
       "std     1722.390705    8219.345141   232.471608    100.765435\n",
       "min    12346.000000   -4287.630000     1.000000      1.000000\n",
       "25%    13812.750000     293.362500    17.000000     17.000000\n",
       "50%    15300.500000     648.075000    42.000000     50.000000\n",
       "75%    16778.250000    1611.725000   102.000000    143.000000\n",
       "max    18287.000000  279489.020000  7983.000000    374.000000"
      ]
     },
     "execution_count": 53,
     "metadata": {},
     "output_type": "execute_result"
    }
   ],
   "source": [
    "df1 = pd.merge(Monetary,Frequency,on='CustomerID')\n",
    "df2 = pd.merge(df1,Recency,on='CustomerID')\n",
    "df2.describe()"
   ]
  },
  {
   "cell_type": "code",
   "execution_count": 55,
   "metadata": {},
   "outputs": [],
   "source": [
    "df2.set_index('CustomerID',inplace=True)"
   ]
  },
  {
   "cell_type": "code",
   "execution_count": 56,
   "metadata": {
    "collapsed": true
   },
   "outputs": [
    {
     "data": {
      "text/html": [
       "<div>\n",
       "<style scoped>\n",
       "    .dataframe tbody tr th:only-of-type {\n",
       "        vertical-align: middle;\n",
       "    }\n",
       "\n",
       "    .dataframe tbody tr th {\n",
       "        vertical-align: top;\n",
       "    }\n",
       "\n",
       "    .dataframe thead th {\n",
       "        text-align: right;\n",
       "    }\n",
       "</style>\n",
       "<table border=\"1\" class=\"dataframe\">\n",
       "  <thead>\n",
       "    <tr style=\"text-align: right;\">\n",
       "      <th></th>\n",
       "      <th>Total</th>\n",
       "      <th>InvoiceNo</th>\n",
       "      <th>LastPurchase</th>\n",
       "    </tr>\n",
       "    <tr>\n",
       "      <th>CustomerID</th>\n",
       "      <th></th>\n",
       "      <th></th>\n",
       "      <th></th>\n",
       "    </tr>\n",
       "  </thead>\n",
       "  <tbody>\n",
       "    <tr>\n",
       "      <th>12346.0</th>\n",
       "      <td>0.00</td>\n",
       "      <td>2</td>\n",
       "      <td>326</td>\n",
       "    </tr>\n",
       "    <tr>\n",
       "      <th>12347.0</th>\n",
       "      <td>4310.00</td>\n",
       "      <td>182</td>\n",
       "      <td>2</td>\n",
       "    </tr>\n",
       "    <tr>\n",
       "      <th>12348.0</th>\n",
       "      <td>1797.24</td>\n",
       "      <td>31</td>\n",
       "      <td>75</td>\n",
       "    </tr>\n",
       "    <tr>\n",
       "      <th>12349.0</th>\n",
       "      <td>1757.55</td>\n",
       "      <td>73</td>\n",
       "      <td>19</td>\n",
       "    </tr>\n",
       "    <tr>\n",
       "      <th>12350.0</th>\n",
       "      <td>334.40</td>\n",
       "      <td>17</td>\n",
       "      <td>310</td>\n",
       "    </tr>\n",
       "  </tbody>\n",
       "</table>\n",
       "</div>"
      ],
      "text/plain": [
       "              Total  InvoiceNo  LastPurchase\n",
       "CustomerID                                  \n",
       "12346.0        0.00          2           326\n",
       "12347.0     4310.00        182             2\n",
       "12348.0     1797.24         31            75\n",
       "12349.0     1757.55         73            19\n",
       "12350.0      334.40         17           310"
      ]
     },
     "execution_count": 56,
     "metadata": {},
     "output_type": "execute_result"
    }
   ],
   "source": [
    "df2.head()"
   ]
  },
  {
   "cell_type": "code",
   "execution_count": 57,
   "metadata": {},
   "outputs": [
    {
     "data": {
      "text/html": [
       "<div>\n",
       "<style scoped>\n",
       "    .dataframe tbody tr th:only-of-type {\n",
       "        vertical-align: middle;\n",
       "    }\n",
       "\n",
       "    .dataframe tbody tr th {\n",
       "        vertical-align: top;\n",
       "    }\n",
       "\n",
       "    .dataframe thead th {\n",
       "        text-align: right;\n",
       "    }\n",
       "</style>\n",
       "<table border=\"1\" class=\"dataframe\">\n",
       "  <thead>\n",
       "    <tr style=\"text-align: right;\">\n",
       "      <th></th>\n",
       "      <th>Total</th>\n",
       "      <th>InvoiceNo</th>\n",
       "      <th>LastPurchase</th>\n",
       "    </tr>\n",
       "  </thead>\n",
       "  <tbody>\n",
       "    <tr>\n",
       "      <th>count</th>\n",
       "      <td>4372.000000</td>\n",
       "      <td>4372.000000</td>\n",
       "      <td>4372.000000</td>\n",
       "    </tr>\n",
       "    <tr>\n",
       "      <th>mean</th>\n",
       "      <td>1898.459701</td>\n",
       "      <td>93.053294</td>\n",
       "      <td>92.047118</td>\n",
       "    </tr>\n",
       "    <tr>\n",
       "      <th>std</th>\n",
       "      <td>8219.345141</td>\n",
       "      <td>232.471608</td>\n",
       "      <td>100.765435</td>\n",
       "    </tr>\n",
       "    <tr>\n",
       "      <th>min</th>\n",
       "      <td>-4287.630000</td>\n",
       "      <td>1.000000</td>\n",
       "      <td>1.000000</td>\n",
       "    </tr>\n",
       "    <tr>\n",
       "      <th>25%</th>\n",
       "      <td>293.362500</td>\n",
       "      <td>17.000000</td>\n",
       "      <td>17.000000</td>\n",
       "    </tr>\n",
       "    <tr>\n",
       "      <th>50%</th>\n",
       "      <td>648.075000</td>\n",
       "      <td>42.000000</td>\n",
       "      <td>50.000000</td>\n",
       "    </tr>\n",
       "    <tr>\n",
       "      <th>75%</th>\n",
       "      <td>1611.725000</td>\n",
       "      <td>102.000000</td>\n",
       "      <td>143.000000</td>\n",
       "    </tr>\n",
       "    <tr>\n",
       "      <th>max</th>\n",
       "      <td>279489.020000</td>\n",
       "      <td>7983.000000</td>\n",
       "      <td>374.000000</td>\n",
       "    </tr>\n",
       "  </tbody>\n",
       "</table>\n",
       "</div>"
      ],
      "text/plain": [
       "               Total    InvoiceNo  LastPurchase\n",
       "count    4372.000000  4372.000000   4372.000000\n",
       "mean     1898.459701    93.053294     92.047118\n",
       "std      8219.345141   232.471608    100.765435\n",
       "min     -4287.630000     1.000000      1.000000\n",
       "25%       293.362500    17.000000     17.000000\n",
       "50%       648.075000    42.000000     50.000000\n",
       "75%      1611.725000   102.000000    143.000000\n",
       "max    279489.020000  7983.000000    374.000000"
      ]
     },
     "execution_count": 57,
     "metadata": {},
     "output_type": "execute_result"
    }
   ],
   "source": [
    "df2.describe()"
   ]
  },
  {
   "cell_type": "code",
   "execution_count": 58,
   "metadata": {
    "collapsed": true
   },
   "outputs": [
    {
     "data": {
      "text/html": [
       "<div>\n",
       "<style scoped>\n",
       "    .dataframe tbody tr th:only-of-type {\n",
       "        vertical-align: middle;\n",
       "    }\n",
       "\n",
       "    .dataframe tbody tr th {\n",
       "        vertical-align: top;\n",
       "    }\n",
       "\n",
       "    .dataframe thead th {\n",
       "        text-align: right;\n",
       "    }\n",
       "</style>\n",
       "<table border=\"1\" class=\"dataframe\">\n",
       "  <thead>\n",
       "    <tr style=\"text-align: right;\">\n",
       "      <th></th>\n",
       "      <th>Monetary</th>\n",
       "      <th>Frequency</th>\n",
       "      <th>Recency</th>\n",
       "    </tr>\n",
       "  </thead>\n",
       "  <tbody>\n",
       "    <tr>\n",
       "      <th>count</th>\n",
       "      <td>4372.000000</td>\n",
       "      <td>4372.000000</td>\n",
       "      <td>4372.000000</td>\n",
       "    </tr>\n",
       "    <tr>\n",
       "      <th>mean</th>\n",
       "      <td>0.021799</td>\n",
       "      <td>0.011533</td>\n",
       "      <td>0.244094</td>\n",
       "    </tr>\n",
       "    <tr>\n",
       "      <th>std</th>\n",
       "      <td>0.028964</td>\n",
       "      <td>0.029124</td>\n",
       "      <td>0.270149</td>\n",
       "    </tr>\n",
       "    <tr>\n",
       "      <th>min</th>\n",
       "      <td>0.000000</td>\n",
       "      <td>0.000000</td>\n",
       "      <td>0.000000</td>\n",
       "    </tr>\n",
       "    <tr>\n",
       "      <th>25%</th>\n",
       "      <td>0.016143</td>\n",
       "      <td>0.002005</td>\n",
       "      <td>0.042895</td>\n",
       "    </tr>\n",
       "    <tr>\n",
       "      <th>50%</th>\n",
       "      <td>0.017393</td>\n",
       "      <td>0.005137</td>\n",
       "      <td>0.131367</td>\n",
       "    </tr>\n",
       "    <tr>\n",
       "      <th>75%</th>\n",
       "      <td>0.020789</td>\n",
       "      <td>0.012653</td>\n",
       "      <td>0.380697</td>\n",
       "    </tr>\n",
       "    <tr>\n",
       "      <th>max</th>\n",
       "      <td>1.000000</td>\n",
       "      <td>1.000000</td>\n",
       "      <td>1.000000</td>\n",
       "    </tr>\n",
       "  </tbody>\n",
       "</table>\n",
       "</div>"
      ],
      "text/plain": [
       "          Monetary    Frequency      Recency\n",
       "count  4372.000000  4372.000000  4372.000000\n",
       "mean      0.021799     0.011533     0.244094\n",
       "std       0.028964     0.029124     0.270149\n",
       "min       0.000000     0.000000     0.000000\n",
       "25%       0.016143     0.002005     0.042895\n",
       "50%       0.017393     0.005137     0.131367\n",
       "75%       0.020789     0.012653     0.380697\n",
       "max       1.000000     1.000000     1.000000"
      ]
     },
     "execution_count": 58,
     "metadata": {},
     "output_type": "execute_result"
    }
   ],
   "source": [
    "from sklearn.preprocessing import MinMaxScaler\n",
    "sc=MinMaxScaler()\n",
    "df2 = pd.DataFrame(sc.fit_transform(df2),\\\n",
    "                   columns=['Monetary','Frequency','Recency'])\n",
    "df2.describe()"
   ]
  },
  {
   "cell_type": "markdown",
   "metadata": {},
   "source": [
    "##### Apply KMeans"
   ]
  },
  {
   "cell_type": "code",
   "execution_count": 60,
   "metadata": {},
   "outputs": [
    {
     "data": {
      "text/plain": [
       "KMeans(algorithm='auto', copy_x=True, init='k-means++', max_iter=300,\n",
       "    n_clusters=2, n_init=10, n_jobs=1, precompute_distances='auto',\n",
       "    random_state=None, tol=0.0001, verbose=0)"
      ]
     },
     "execution_count": 60,
     "metadata": {},
     "output_type": "execute_result"
    }
   ],
   "source": [
    "from sklearn.cluster import KMeans\n",
    "km = KMeans(n_clusters=2)\n",
    "km.fit(df2)"
   ]
  },
  {
   "cell_type": "code",
   "execution_count": 61,
   "metadata": {},
   "outputs": [
    {
     "data": {
      "text/plain": [
       "array([0, 1, 1, ..., 1, 1, 1])"
      ]
     },
     "execution_count": 61,
     "metadata": {},
     "output_type": "execute_result"
    }
   ],
   "source": [
    "km.predict(df2)"
   ]
  },
  {
   "cell_type": "code",
   "execution_count": 63,
   "metadata": {},
   "outputs": [
    {
     "data": {
      "text/plain": [
       "array([False,  True,  True, ...,  True,  True,  True])"
      ]
     },
     "execution_count": 63,
     "metadata": {},
     "output_type": "execute_result"
    }
   ],
   "source": [
    "km.predict(df2)==1"
   ]
  },
  {
   "cell_type": "code",
   "execution_count": 64,
   "metadata": {
    "collapsed": true
   },
   "outputs": [
    {
     "data": {
      "text/html": [
       "<div>\n",
       "<style scoped>\n",
       "    .dataframe tbody tr th:only-of-type {\n",
       "        vertical-align: middle;\n",
       "    }\n",
       "\n",
       "    .dataframe tbody tr th {\n",
       "        vertical-align: top;\n",
       "    }\n",
       "\n",
       "    .dataframe thead th {\n",
       "        text-align: right;\n",
       "    }\n",
       "</style>\n",
       "<table border=\"1\" class=\"dataframe\">\n",
       "  <thead>\n",
       "    <tr style=\"text-align: right;\">\n",
       "      <th></th>\n",
       "      <th>Monetary</th>\n",
       "      <th>Frequency</th>\n",
       "      <th>Recency</th>\n",
       "    </tr>\n",
       "  </thead>\n",
       "  <tbody>\n",
       "    <tr>\n",
       "      <th>1</th>\n",
       "      <td>0.030297</td>\n",
       "      <td>0.022676</td>\n",
       "      <td>0.002681</td>\n",
       "    </tr>\n",
       "    <tr>\n",
       "      <th>2</th>\n",
       "      <td>0.021442</td>\n",
       "      <td>0.003758</td>\n",
       "      <td>0.198391</td>\n",
       "    </tr>\n",
       "    <tr>\n",
       "      <th>3</th>\n",
       "      <td>0.021303</td>\n",
       "      <td>0.009020</td>\n",
       "      <td>0.048257</td>\n",
       "    </tr>\n",
       "    <tr>\n",
       "      <th>5</th>\n",
       "      <td>0.020555</td>\n",
       "      <td>0.011776</td>\n",
       "      <td>0.093834</td>\n",
       "    </tr>\n",
       "    <tr>\n",
       "      <th>9</th>\n",
       "      <td>0.025016</td>\n",
       "      <td>0.007266</td>\n",
       "      <td>0.058981</td>\n",
       "    </tr>\n",
       "    <tr>\n",
       "      <th>10</th>\n",
       "      <td>0.036984</td>\n",
       "      <td>0.016287</td>\n",
       "      <td>0.085791</td>\n",
       "    </tr>\n",
       "    <tr>\n",
       "      <th>11</th>\n",
       "      <td>0.019225</td>\n",
       "      <td>0.002255</td>\n",
       "      <td>0.002681</td>\n",
       "    </tr>\n",
       "    <tr>\n",
       "      <th>12</th>\n",
       "      <td>0.037118</td>\n",
       "      <td>0.031696</td>\n",
       "      <td>0.018767</td>\n",
       "    </tr>\n",
       "    <tr>\n",
       "      <th>13</th>\n",
       "      <td>0.024490</td>\n",
       "      <td>0.016036</td>\n",
       "      <td>0.136729</td>\n",
       "    </tr>\n",
       "    <tr>\n",
       "      <th>15</th>\n",
       "      <td>0.033273</td>\n",
       "      <td>0.034202</td>\n",
       "      <td>0.005362</td>\n",
       "    </tr>\n",
       "    <tr>\n",
       "      <th>16</th>\n",
       "      <td>0.017054</td>\n",
       "      <td>0.002756</td>\n",
       "      <td>0.292225</td>\n",
       "    </tr>\n",
       "    <tr>\n",
       "      <th>17</th>\n",
       "      <td>0.019736</td>\n",
       "      <td>0.010524</td>\n",
       "      <td>0.018767</td>\n",
       "    </tr>\n",
       "    <tr>\n",
       "      <th>19</th>\n",
       "      <td>0.015704</td>\n",
       "      <td>0.001253</td>\n",
       "      <td>0.008043</td>\n",
       "    </tr>\n",
       "    <tr>\n",
       "      <th>20</th>\n",
       "      <td>0.027604</td>\n",
       "      <td>0.020797</td>\n",
       "      <td>0.134048</td>\n",
       "    </tr>\n",
       "    <tr>\n",
       "      <th>21</th>\n",
       "      <td>0.021762</td>\n",
       "      <td>0.007767</td>\n",
       "      <td>0.117962</td>\n",
       "    </tr>\n",
       "    <tr>\n",
       "      <th>22</th>\n",
       "      <td>0.019683</td>\n",
       "      <td>0.006389</td>\n",
       "      <td>0.190349</td>\n",
       "    </tr>\n",
       "    <tr>\n",
       "      <th>24</th>\n",
       "      <td>0.017727</td>\n",
       "      <td>0.004009</td>\n",
       "      <td>0.064343</td>\n",
       "    </tr>\n",
       "    <tr>\n",
       "      <th>25</th>\n",
       "      <td>0.016714</td>\n",
       "      <td>0.002130</td>\n",
       "      <td>0.005362</td>\n",
       "    </tr>\n",
       "    <tr>\n",
       "      <th>27</th>\n",
       "      <td>0.029235</td>\n",
       "      <td>0.027311</td>\n",
       "      <td>0.345845</td>\n",
       "    </tr>\n",
       "    <tr>\n",
       "      <th>28</th>\n",
       "      <td>0.018106</td>\n",
       "      <td>0.005011</td>\n",
       "      <td>0.217158</td>\n",
       "    </tr>\n",
       "    <tr>\n",
       "      <th>29</th>\n",
       "      <td>0.024696</td>\n",
       "      <td>0.013029</td>\n",
       "      <td>0.056300</td>\n",
       "    </tr>\n",
       "    <tr>\n",
       "      <th>30</th>\n",
       "      <td>0.021466</td>\n",
       "      <td>0.011275</td>\n",
       "      <td>0.010724</td>\n",
       "    </tr>\n",
       "    <tr>\n",
       "      <th>32</th>\n",
       "      <td>0.017104</td>\n",
       "      <td>0.003633</td>\n",
       "      <td>0.075067</td>\n",
       "    </tr>\n",
       "    <tr>\n",
       "      <th>34</th>\n",
       "      <td>0.024908</td>\n",
       "      <td>0.012403</td>\n",
       "      <td>0.040214</td>\n",
       "    </tr>\n",
       "    <tr>\n",
       "      <th>35</th>\n",
       "      <td>0.017047</td>\n",
       "      <td>0.003884</td>\n",
       "      <td>0.211796</td>\n",
       "    </tr>\n",
       "    <tr>\n",
       "      <th>36</th>\n",
       "      <td>0.016733</td>\n",
       "      <td>0.012403</td>\n",
       "      <td>0.056300</td>\n",
       "    </tr>\n",
       "    <tr>\n",
       "      <th>37</th>\n",
       "      <td>0.020686</td>\n",
       "      <td>0.007893</td>\n",
       "      <td>0.190349</td>\n",
       "    </tr>\n",
       "    <tr>\n",
       "      <th>38</th>\n",
       "      <td>0.019593</td>\n",
       "      <td>0.003257</td>\n",
       "      <td>0.168901</td>\n",
       "    </tr>\n",
       "    <tr>\n",
       "      <th>39</th>\n",
       "      <td>0.025675</td>\n",
       "      <td>0.019795</td>\n",
       "      <td>0.040214</td>\n",
       "    </tr>\n",
       "    <tr>\n",
       "      <th>40</th>\n",
       "      <td>0.023601</td>\n",
       "      <td>0.015660</td>\n",
       "      <td>0.093834</td>\n",
       "    </tr>\n",
       "    <tr>\n",
       "      <th>...</th>\n",
       "      <td>...</td>\n",
       "      <td>...</td>\n",
       "      <td>...</td>\n",
       "    </tr>\n",
       "    <tr>\n",
       "      <th>4335</th>\n",
       "      <td>0.021440</td>\n",
       "      <td>0.012904</td>\n",
       "      <td>0.190349</td>\n",
       "    </tr>\n",
       "    <tr>\n",
       "      <th>4336</th>\n",
       "      <td>0.018218</td>\n",
       "      <td>0.006014</td>\n",
       "      <td>0.077748</td>\n",
       "    </tr>\n",
       "    <tr>\n",
       "      <th>4337</th>\n",
       "      <td>0.018588</td>\n",
       "      <td>0.007517</td>\n",
       "      <td>0.005362</td>\n",
       "    </tr>\n",
       "    <tr>\n",
       "      <th>4339</th>\n",
       "      <td>0.016598</td>\n",
       "      <td>0.000626</td>\n",
       "      <td>0.120643</td>\n",
       "    </tr>\n",
       "    <tr>\n",
       "      <th>4340</th>\n",
       "      <td>0.022362</td>\n",
       "      <td>0.013029</td>\n",
       "      <td>0.024129</td>\n",
       "    </tr>\n",
       "    <tr>\n",
       "      <th>4341</th>\n",
       "      <td>0.022976</td>\n",
       "      <td>0.009647</td>\n",
       "      <td>0.190349</td>\n",
       "    </tr>\n",
       "    <tr>\n",
       "      <th>4342</th>\n",
       "      <td>0.023946</td>\n",
       "      <td>0.022050</td>\n",
       "      <td>0.016086</td>\n",
       "    </tr>\n",
       "    <tr>\n",
       "      <th>4343</th>\n",
       "      <td>0.017210</td>\n",
       "      <td>0.000376</td>\n",
       "      <td>0.061662</td>\n",
       "    </tr>\n",
       "    <tr>\n",
       "      <th>4344</th>\n",
       "      <td>0.017868</td>\n",
       "      <td>0.006014</td>\n",
       "      <td>0.302949</td>\n",
       "    </tr>\n",
       "    <tr>\n",
       "      <th>4345</th>\n",
       "      <td>0.015445</td>\n",
       "      <td>0.000877</td>\n",
       "      <td>0.042895</td>\n",
       "    </tr>\n",
       "    <tr>\n",
       "      <th>4347</th>\n",
       "      <td>0.030314</td>\n",
       "      <td>0.001879</td>\n",
       "      <td>0.230563</td>\n",
       "    </tr>\n",
       "    <tr>\n",
       "      <th>4348</th>\n",
       "      <td>0.016965</td>\n",
       "      <td>0.012152</td>\n",
       "      <td>0.134048</td>\n",
       "    </tr>\n",
       "    <tr>\n",
       "      <th>4349</th>\n",
       "      <td>0.015473</td>\n",
       "      <td>0.000626</td>\n",
       "      <td>0.235925</td>\n",
       "    </tr>\n",
       "    <tr>\n",
       "      <th>4351</th>\n",
       "      <td>0.023092</td>\n",
       "      <td>0.015284</td>\n",
       "      <td>0.101877</td>\n",
       "    </tr>\n",
       "    <tr>\n",
       "      <th>4352</th>\n",
       "      <td>0.023350</td>\n",
       "      <td>0.005137</td>\n",
       "      <td>0.064343</td>\n",
       "    </tr>\n",
       "    <tr>\n",
       "      <th>4354</th>\n",
       "      <td>0.016252</td>\n",
       "      <td>0.002506</td>\n",
       "      <td>0.112601</td>\n",
       "    </tr>\n",
       "    <tr>\n",
       "      <th>4355</th>\n",
       "      <td>0.015636</td>\n",
       "      <td>0.001503</td>\n",
       "      <td>0.372654</td>\n",
       "    </tr>\n",
       "    <tr>\n",
       "      <th>4356</th>\n",
       "      <td>0.019377</td>\n",
       "      <td>0.007642</td>\n",
       "      <td>0.058981</td>\n",
       "    </tr>\n",
       "    <tr>\n",
       "      <th>4357</th>\n",
       "      <td>0.017934</td>\n",
       "      <td>0.005638</td>\n",
       "      <td>0.190349</td>\n",
       "    </tr>\n",
       "    <tr>\n",
       "      <th>4358</th>\n",
       "      <td>0.015109</td>\n",
       "      <td>0.000125</td>\n",
       "      <td>0.356568</td>\n",
       "    </tr>\n",
       "    <tr>\n",
       "      <th>4360</th>\n",
       "      <td>0.015951</td>\n",
       "      <td>0.001503</td>\n",
       "      <td>0.099196</td>\n",
       "    </tr>\n",
       "    <tr>\n",
       "      <th>4361</th>\n",
       "      <td>0.025909</td>\n",
       "      <td>0.021173</td>\n",
       "      <td>0.005362</td>\n",
       "    </tr>\n",
       "    <tr>\n",
       "      <th>4362</th>\n",
       "      <td>0.015828</td>\n",
       "      <td>0.000251</td>\n",
       "      <td>0.002681</td>\n",
       "    </tr>\n",
       "    <tr>\n",
       "      <th>4363</th>\n",
       "      <td>0.015109</td>\n",
       "      <td>0.002631</td>\n",
       "      <td>0.045576</td>\n",
       "    </tr>\n",
       "    <tr>\n",
       "      <th>4364</th>\n",
       "      <td>0.016249</td>\n",
       "      <td>0.001879</td>\n",
       "      <td>0.053619</td>\n",
       "    </tr>\n",
       "    <tr>\n",
       "      <th>4365</th>\n",
       "      <td>0.015453</td>\n",
       "      <td>0.001002</td>\n",
       "      <td>0.152815</td>\n",
       "    </tr>\n",
       "    <tr>\n",
       "      <th>4366</th>\n",
       "      <td>0.015722</td>\n",
       "      <td>0.001002</td>\n",
       "      <td>0.195710</td>\n",
       "    </tr>\n",
       "    <tr>\n",
       "      <th>4369</th>\n",
       "      <td>0.015731</td>\n",
       "      <td>0.001503</td>\n",
       "      <td>0.018767</td>\n",
       "    </tr>\n",
       "    <tr>\n",
       "      <th>4370</th>\n",
       "      <td>0.022491</td>\n",
       "      <td>0.094588</td>\n",
       "      <td>0.008043</td>\n",
       "    </tr>\n",
       "    <tr>\n",
       "      <th>4371</th>\n",
       "      <td>0.021584</td>\n",
       "      <td>0.008644</td>\n",
       "      <td>0.112601</td>\n",
       "    </tr>\n",
       "  </tbody>\n",
       "</table>\n",
       "<p>3290 rows × 3 columns</p>\n",
       "</div>"
      ],
      "text/plain": [
       "      Monetary  Frequency   Recency\n",
       "1     0.030297   0.022676  0.002681\n",
       "2     0.021442   0.003758  0.198391\n",
       "3     0.021303   0.009020  0.048257\n",
       "5     0.020555   0.011776  0.093834\n",
       "9     0.025016   0.007266  0.058981\n",
       "10    0.036984   0.016287  0.085791\n",
       "11    0.019225   0.002255  0.002681\n",
       "12    0.037118   0.031696  0.018767\n",
       "13    0.024490   0.016036  0.136729\n",
       "15    0.033273   0.034202  0.005362\n",
       "16    0.017054   0.002756  0.292225\n",
       "17    0.019736   0.010524  0.018767\n",
       "19    0.015704   0.001253  0.008043\n",
       "20    0.027604   0.020797  0.134048\n",
       "21    0.021762   0.007767  0.117962\n",
       "22    0.019683   0.006389  0.190349\n",
       "24    0.017727   0.004009  0.064343\n",
       "25    0.016714   0.002130  0.005362\n",
       "27    0.029235   0.027311  0.345845\n",
       "28    0.018106   0.005011  0.217158\n",
       "29    0.024696   0.013029  0.056300\n",
       "30    0.021466   0.011275  0.010724\n",
       "32    0.017104   0.003633  0.075067\n",
       "34    0.024908   0.012403  0.040214\n",
       "35    0.017047   0.003884  0.211796\n",
       "36    0.016733   0.012403  0.056300\n",
       "37    0.020686   0.007893  0.190349\n",
       "38    0.019593   0.003257  0.168901\n",
       "39    0.025675   0.019795  0.040214\n",
       "40    0.023601   0.015660  0.093834\n",
       "...        ...        ...       ...\n",
       "4335  0.021440   0.012904  0.190349\n",
       "4336  0.018218   0.006014  0.077748\n",
       "4337  0.018588   0.007517  0.005362\n",
       "4339  0.016598   0.000626  0.120643\n",
       "4340  0.022362   0.013029  0.024129\n",
       "4341  0.022976   0.009647  0.190349\n",
       "4342  0.023946   0.022050  0.016086\n",
       "4343  0.017210   0.000376  0.061662\n",
       "4344  0.017868   0.006014  0.302949\n",
       "4345  0.015445   0.000877  0.042895\n",
       "4347  0.030314   0.001879  0.230563\n",
       "4348  0.016965   0.012152  0.134048\n",
       "4349  0.015473   0.000626  0.235925\n",
       "4351  0.023092   0.015284  0.101877\n",
       "4352  0.023350   0.005137  0.064343\n",
       "4354  0.016252   0.002506  0.112601\n",
       "4355  0.015636   0.001503  0.372654\n",
       "4356  0.019377   0.007642  0.058981\n",
       "4357  0.017934   0.005638  0.190349\n",
       "4358  0.015109   0.000125  0.356568\n",
       "4360  0.015951   0.001503  0.099196\n",
       "4361  0.025909   0.021173  0.005362\n",
       "4362  0.015828   0.000251  0.002681\n",
       "4363  0.015109   0.002631  0.045576\n",
       "4364  0.016249   0.001879  0.053619\n",
       "4365  0.015453   0.001002  0.152815\n",
       "4366  0.015722   0.001002  0.195710\n",
       "4369  0.015731   0.001503  0.018767\n",
       "4370  0.022491   0.094588  0.008043\n",
       "4371  0.021584   0.008644  0.112601\n",
       "\n",
       "[3290 rows x 3 columns]"
      ]
     },
     "execution_count": 64,
     "metadata": {},
     "output_type": "execute_result"
    }
   ],
   "source": [
    "df2[km.predict(df2)==1]"
   ]
  },
  {
   "cell_type": "code",
   "execution_count": 65,
   "metadata": {
    "collapsed": true
   },
   "outputs": [
    {
     "data": {
      "text/html": [
       "<div>\n",
       "<style scoped>\n",
       "    .dataframe tbody tr th:only-of-type {\n",
       "        vertical-align: middle;\n",
       "    }\n",
       "\n",
       "    .dataframe tbody tr th {\n",
       "        vertical-align: top;\n",
       "    }\n",
       "\n",
       "    .dataframe thead th {\n",
       "        text-align: right;\n",
       "    }\n",
       "</style>\n",
       "<table border=\"1\" class=\"dataframe\">\n",
       "  <thead>\n",
       "    <tr style=\"text-align: right;\">\n",
       "      <th></th>\n",
       "      <th>Monetary</th>\n",
       "      <th>Frequency</th>\n",
       "      <th>Recency</th>\n",
       "    </tr>\n",
       "  </thead>\n",
       "  <tbody>\n",
       "    <tr>\n",
       "      <th>0</th>\n",
       "      <td>0.015109</td>\n",
       "      <td>0.000125</td>\n",
       "      <td>0.871314</td>\n",
       "    </tr>\n",
       "    <tr>\n",
       "      <th>4</th>\n",
       "      <td>0.016288</td>\n",
       "      <td>0.002005</td>\n",
       "      <td>0.828418</td>\n",
       "    </tr>\n",
       "    <tr>\n",
       "      <th>6</th>\n",
       "      <td>0.015423</td>\n",
       "      <td>0.000376</td>\n",
       "      <td>0.544236</td>\n",
       "    </tr>\n",
       "    <tr>\n",
       "      <th>7</th>\n",
       "      <td>0.018913</td>\n",
       "      <td>0.007141</td>\n",
       "      <td>0.619303</td>\n",
       "    </tr>\n",
       "    <tr>\n",
       "      <th>8</th>\n",
       "      <td>0.016728</td>\n",
       "      <td>0.001503</td>\n",
       "      <td>0.571046</td>\n",
       "    </tr>\n",
       "    <tr>\n",
       "      <th>14</th>\n",
       "      <td>0.015778</td>\n",
       "      <td>0.001128</td>\n",
       "      <td>0.766756</td>\n",
       "    </tr>\n",
       "    <tr>\n",
       "      <th>18</th>\n",
       "      <td>0.016239</td>\n",
       "      <td>0.002756</td>\n",
       "      <td>0.777480</td>\n",
       "    </tr>\n",
       "    <tr>\n",
       "      <th>23</th>\n",
       "      <td>0.016394</td>\n",
       "      <td>0.001629</td>\n",
       "      <td>0.831099</td>\n",
       "    </tr>\n",
       "    <tr>\n",
       "      <th>26</th>\n",
       "      <td>0.020847</td>\n",
       "      <td>0.009521</td>\n",
       "      <td>0.841823</td>\n",
       "    </tr>\n",
       "    <tr>\n",
       "      <th>31</th>\n",
       "      <td>0.021591</td>\n",
       "      <td>0.012403</td>\n",
       "      <td>0.493298</td>\n",
       "    </tr>\n",
       "    <tr>\n",
       "      <th>33</th>\n",
       "      <td>0.016525</td>\n",
       "      <td>0.001128</td>\n",
       "      <td>0.903485</td>\n",
       "    </tr>\n",
       "    <tr>\n",
       "      <th>43</th>\n",
       "      <td>0.015406</td>\n",
       "      <td>0.000501</td>\n",
       "      <td>0.809651</td>\n",
       "    </tr>\n",
       "    <tr>\n",
       "      <th>44</th>\n",
       "      <td>0.015904</td>\n",
       "      <td>0.001253</td>\n",
       "      <td>0.863271</td>\n",
       "    </tr>\n",
       "    <tr>\n",
       "      <th>46</th>\n",
       "      <td>0.021136</td>\n",
       "      <td>0.006640</td>\n",
       "      <td>0.396783</td>\n",
       "    </tr>\n",
       "    <tr>\n",
       "      <th>51</th>\n",
       "      <td>0.017509</td>\n",
       "      <td>0.003383</td>\n",
       "      <td>0.804290</td>\n",
       "    </tr>\n",
       "    <tr>\n",
       "      <th>54</th>\n",
       "      <td>0.017091</td>\n",
       "      <td>0.002130</td>\n",
       "      <td>0.579088</td>\n",
       "    </tr>\n",
       "    <tr>\n",
       "      <th>62</th>\n",
       "      <td>0.021315</td>\n",
       "      <td>0.003633</td>\n",
       "      <td>0.434316</td>\n",
       "    </tr>\n",
       "    <tr>\n",
       "      <th>64</th>\n",
       "      <td>0.017163</td>\n",
       "      <td>0.003633</td>\n",
       "      <td>0.520107</td>\n",
       "    </tr>\n",
       "    <tr>\n",
       "      <th>77</th>\n",
       "      <td>0.015721</td>\n",
       "      <td>0.001253</td>\n",
       "      <td>0.981233</td>\n",
       "    </tr>\n",
       "    <tr>\n",
       "      <th>82</th>\n",
       "      <td>0.016788</td>\n",
       "      <td>0.003132</td>\n",
       "      <td>0.648794</td>\n",
       "    </tr>\n",
       "    <tr>\n",
       "      <th>85</th>\n",
       "      <td>0.015806</td>\n",
       "      <td>0.000877</td>\n",
       "      <td>0.415550</td>\n",
       "    </tr>\n",
       "    <tr>\n",
       "      <th>114</th>\n",
       "      <td>0.016289</td>\n",
       "      <td>0.001754</td>\n",
       "      <td>0.898123</td>\n",
       "    </tr>\n",
       "    <tr>\n",
       "      <th>118</th>\n",
       "      <td>0.016578</td>\n",
       "      <td>0.002756</td>\n",
       "      <td>0.442359</td>\n",
       "    </tr>\n",
       "    <tr>\n",
       "      <th>123</th>\n",
       "      <td>0.022473</td>\n",
       "      <td>0.019920</td>\n",
       "      <td>0.841823</td>\n",
       "    </tr>\n",
       "    <tr>\n",
       "      <th>125</th>\n",
       "      <td>0.011141</td>\n",
       "      <td>0.000000</td>\n",
       "      <td>0.903485</td>\n",
       "    </tr>\n",
       "    <tr>\n",
       "      <th>127</th>\n",
       "      <td>0.015093</td>\n",
       "      <td>0.000000</td>\n",
       "      <td>0.804290</td>\n",
       "    </tr>\n",
       "    <tr>\n",
       "      <th>128</th>\n",
       "      <td>0.015368</td>\n",
       "      <td>0.002756</td>\n",
       "      <td>0.621984</td>\n",
       "    </tr>\n",
       "    <tr>\n",
       "      <th>131</th>\n",
       "      <td>0.015731</td>\n",
       "      <td>0.000752</td>\n",
       "      <td>0.758713</td>\n",
       "    </tr>\n",
       "    <tr>\n",
       "      <th>135</th>\n",
       "      <td>0.018695</td>\n",
       "      <td>0.006264</td>\n",
       "      <td>0.713137</td>\n",
       "    </tr>\n",
       "    <tr>\n",
       "      <th>136</th>\n",
       "      <td>0.016461</td>\n",
       "      <td>0.001879</td>\n",
       "      <td>0.943700</td>\n",
       "    </tr>\n",
       "    <tr>\n",
       "      <th>...</th>\n",
       "      <td>...</td>\n",
       "      <td>...</td>\n",
       "      <td>...</td>\n",
       "    </tr>\n",
       "    <tr>\n",
       "      <th>4256</th>\n",
       "      <td>0.017631</td>\n",
       "      <td>0.000125</td>\n",
       "      <td>0.563003</td>\n",
       "    </tr>\n",
       "    <tr>\n",
       "      <th>4259</th>\n",
       "      <td>0.015647</td>\n",
       "      <td>0.000877</td>\n",
       "      <td>0.788204</td>\n",
       "    </tr>\n",
       "    <tr>\n",
       "      <th>4261</th>\n",
       "      <td>0.014984</td>\n",
       "      <td>0.000000</td>\n",
       "      <td>0.965147</td>\n",
       "    </tr>\n",
       "    <tr>\n",
       "      <th>4262</th>\n",
       "      <td>0.018686</td>\n",
       "      <td>0.002130</td>\n",
       "      <td>0.402145</td>\n",
       "    </tr>\n",
       "    <tr>\n",
       "      <th>4275</th>\n",
       "      <td>0.016977</td>\n",
       "      <td>0.002756</td>\n",
       "      <td>0.804290</td>\n",
       "    </tr>\n",
       "    <tr>\n",
       "      <th>4279</th>\n",
       "      <td>0.016175</td>\n",
       "      <td>0.001128</td>\n",
       "      <td>0.471850</td>\n",
       "    </tr>\n",
       "    <tr>\n",
       "      <th>4281</th>\n",
       "      <td>0.019104</td>\n",
       "      <td>0.017414</td>\n",
       "      <td>0.469169</td>\n",
       "    </tr>\n",
       "    <tr>\n",
       "      <th>4288</th>\n",
       "      <td>0.016690</td>\n",
       "      <td>0.004009</td>\n",
       "      <td>0.946381</td>\n",
       "    </tr>\n",
       "    <tr>\n",
       "      <th>4294</th>\n",
       "      <td>0.017225</td>\n",
       "      <td>0.005387</td>\n",
       "      <td>0.581769</td>\n",
       "    </tr>\n",
       "    <tr>\n",
       "      <th>4296</th>\n",
       "      <td>0.016181</td>\n",
       "      <td>0.002005</td>\n",
       "      <td>0.664879</td>\n",
       "    </tr>\n",
       "    <tr>\n",
       "      <th>4299</th>\n",
       "      <td>0.016077</td>\n",
       "      <td>0.001879</td>\n",
       "      <td>0.512064</td>\n",
       "    </tr>\n",
       "    <tr>\n",
       "      <th>4300</th>\n",
       "      <td>0.015841</td>\n",
       "      <td>0.000752</td>\n",
       "      <td>0.699732</td>\n",
       "    </tr>\n",
       "    <tr>\n",
       "      <th>4302</th>\n",
       "      <td>0.015860</td>\n",
       "      <td>0.002130</td>\n",
       "      <td>0.402145</td>\n",
       "    </tr>\n",
       "    <tr>\n",
       "      <th>4307</th>\n",
       "      <td>0.020032</td>\n",
       "      <td>0.008394</td>\n",
       "      <td>0.533512</td>\n",
       "    </tr>\n",
       "    <tr>\n",
       "      <th>4308</th>\n",
       "      <td>0.015674</td>\n",
       "      <td>0.002255</td>\n",
       "      <td>0.418231</td>\n",
       "    </tr>\n",
       "    <tr>\n",
       "      <th>4314</th>\n",
       "      <td>0.015985</td>\n",
       "      <td>0.005262</td>\n",
       "      <td>0.871314</td>\n",
       "    </tr>\n",
       "    <tr>\n",
       "      <th>4315</th>\n",
       "      <td>0.015928</td>\n",
       "      <td>0.001754</td>\n",
       "      <td>0.632708</td>\n",
       "    </tr>\n",
       "    <tr>\n",
       "      <th>4319</th>\n",
       "      <td>0.017316</td>\n",
       "      <td>0.002881</td>\n",
       "      <td>0.549598</td>\n",
       "    </tr>\n",
       "    <tr>\n",
       "      <th>4321</th>\n",
       "      <td>0.016159</td>\n",
       "      <td>0.000376</td>\n",
       "      <td>0.587131</td>\n",
       "    </tr>\n",
       "    <tr>\n",
       "      <th>4325</th>\n",
       "      <td>0.015669</td>\n",
       "      <td>0.001128</td>\n",
       "      <td>0.705094</td>\n",
       "    </tr>\n",
       "    <tr>\n",
       "      <th>4328</th>\n",
       "      <td>0.015440</td>\n",
       "      <td>0.000501</td>\n",
       "      <td>0.581769</td>\n",
       "    </tr>\n",
       "    <tr>\n",
       "      <th>4332</th>\n",
       "      <td>0.022390</td>\n",
       "      <td>0.015660</td>\n",
       "      <td>0.512064</td>\n",
       "    </tr>\n",
       "    <tr>\n",
       "      <th>4334</th>\n",
       "      <td>0.016660</td>\n",
       "      <td>0.000000</td>\n",
       "      <td>0.871314</td>\n",
       "    </tr>\n",
       "    <tr>\n",
       "      <th>4338</th>\n",
       "      <td>0.020612</td>\n",
       "      <td>0.010900</td>\n",
       "      <td>0.584450</td>\n",
       "    </tr>\n",
       "    <tr>\n",
       "      <th>4346</th>\n",
       "      <td>0.016318</td>\n",
       "      <td>0.002631</td>\n",
       "      <td>0.804290</td>\n",
       "    </tr>\n",
       "    <tr>\n",
       "      <th>4350</th>\n",
       "      <td>0.014933</td>\n",
       "      <td>0.000376</td>\n",
       "      <td>0.949062</td>\n",
       "    </tr>\n",
       "    <tr>\n",
       "      <th>4353</th>\n",
       "      <td>0.024254</td>\n",
       "      <td>0.017414</td>\n",
       "      <td>0.461126</td>\n",
       "    </tr>\n",
       "    <tr>\n",
       "      <th>4359</th>\n",
       "      <td>0.015599</td>\n",
       "      <td>0.000877</td>\n",
       "      <td>0.957105</td>\n",
       "    </tr>\n",
       "    <tr>\n",
       "      <th>4367</th>\n",
       "      <td>0.015746</td>\n",
       "      <td>0.001128</td>\n",
       "      <td>0.742627</td>\n",
       "    </tr>\n",
       "    <tr>\n",
       "      <th>4368</th>\n",
       "      <td>0.015394</td>\n",
       "      <td>0.000752</td>\n",
       "      <td>0.482574</td>\n",
       "    </tr>\n",
       "  </tbody>\n",
       "</table>\n",
       "<p>1082 rows × 3 columns</p>\n",
       "</div>"
      ],
      "text/plain": [
       "      Monetary  Frequency   Recency\n",
       "0     0.015109   0.000125  0.871314\n",
       "4     0.016288   0.002005  0.828418\n",
       "6     0.015423   0.000376  0.544236\n",
       "7     0.018913   0.007141  0.619303\n",
       "8     0.016728   0.001503  0.571046\n",
       "14    0.015778   0.001128  0.766756\n",
       "18    0.016239   0.002756  0.777480\n",
       "23    0.016394   0.001629  0.831099\n",
       "26    0.020847   0.009521  0.841823\n",
       "31    0.021591   0.012403  0.493298\n",
       "33    0.016525   0.001128  0.903485\n",
       "43    0.015406   0.000501  0.809651\n",
       "44    0.015904   0.001253  0.863271\n",
       "46    0.021136   0.006640  0.396783\n",
       "51    0.017509   0.003383  0.804290\n",
       "54    0.017091   0.002130  0.579088\n",
       "62    0.021315   0.003633  0.434316\n",
       "64    0.017163   0.003633  0.520107\n",
       "77    0.015721   0.001253  0.981233\n",
       "82    0.016788   0.003132  0.648794\n",
       "85    0.015806   0.000877  0.415550\n",
       "114   0.016289   0.001754  0.898123\n",
       "118   0.016578   0.002756  0.442359\n",
       "123   0.022473   0.019920  0.841823\n",
       "125   0.011141   0.000000  0.903485\n",
       "127   0.015093   0.000000  0.804290\n",
       "128   0.015368   0.002756  0.621984\n",
       "131   0.015731   0.000752  0.758713\n",
       "135   0.018695   0.006264  0.713137\n",
       "136   0.016461   0.001879  0.943700\n",
       "...        ...        ...       ...\n",
       "4256  0.017631   0.000125  0.563003\n",
       "4259  0.015647   0.000877  0.788204\n",
       "4261  0.014984   0.000000  0.965147\n",
       "4262  0.018686   0.002130  0.402145\n",
       "4275  0.016977   0.002756  0.804290\n",
       "4279  0.016175   0.001128  0.471850\n",
       "4281  0.019104   0.017414  0.469169\n",
       "4288  0.016690   0.004009  0.946381\n",
       "4294  0.017225   0.005387  0.581769\n",
       "4296  0.016181   0.002005  0.664879\n",
       "4299  0.016077   0.001879  0.512064\n",
       "4300  0.015841   0.000752  0.699732\n",
       "4302  0.015860   0.002130  0.402145\n",
       "4307  0.020032   0.008394  0.533512\n",
       "4308  0.015674   0.002255  0.418231\n",
       "4314  0.015985   0.005262  0.871314\n",
       "4315  0.015928   0.001754  0.632708\n",
       "4319  0.017316   0.002881  0.549598\n",
       "4321  0.016159   0.000376  0.587131\n",
       "4325  0.015669   0.001128  0.705094\n",
       "4328  0.015440   0.000501  0.581769\n",
       "4332  0.022390   0.015660  0.512064\n",
       "4334  0.016660   0.000000  0.871314\n",
       "4338  0.020612   0.010900  0.584450\n",
       "4346  0.016318   0.002631  0.804290\n",
       "4350  0.014933   0.000376  0.949062\n",
       "4353  0.024254   0.017414  0.461126\n",
       "4359  0.015599   0.000877  0.957105\n",
       "4367  0.015746   0.001128  0.742627\n",
       "4368  0.015394   0.000752  0.482574\n",
       "\n",
       "[1082 rows x 3 columns]"
      ]
     },
     "execution_count": 65,
     "metadata": {},
     "output_type": "execute_result"
    }
   ],
   "source": [
    "df2[km.predict(df2)==0]"
   ]
  },
  {
   "cell_type": "code",
   "execution_count": 67,
   "metadata": {},
   "outputs": [
    {
     "data": {
      "text/plain": [
       "72.79140206108409"
      ]
     },
     "execution_count": 67,
     "metadata": {},
     "output_type": "execute_result"
    }
   ],
   "source": [
    "km.inertia_"
   ]
  },
  {
   "cell_type": "code",
   "execution_count": 69,
   "metadata": {},
   "outputs": [],
   "source": [
    "d ={}\n",
    "for k in range(2,15):\n",
    "    kmn = KMeans(n_clusters=k)\n",
    "    kmn.fit(df2)\n",
    "    d[k] = kmn.inertia_\n"
   ]
  },
  {
   "cell_type": "code",
   "execution_count": 70,
   "metadata": {
    "collapsed": true
   },
   "outputs": [
    {
     "data": {
      "text/plain": [
       "{2: 72.79140206108409,\n",
       " 3: 38.18554266730415,\n",
       " 4: 24.711462774193645,\n",
       " 5: 17.958176104267373,\n",
       " 6: 14.578038039923024,\n",
       " 7: 11.265456497557452,\n",
       " 8: 9.393094636114286,\n",
       " 9: 8.01923195696421,\n",
       " 10: 6.849678263745028,\n",
       " 11: 5.784565946368511,\n",
       " 12: 5.060541938602263,\n",
       " 13: 4.401080275607798,\n",
       " 14: 3.864569700884364}"
      ]
     },
     "execution_count": 70,
     "metadata": {},
     "output_type": "execute_result"
    }
   ],
   "source": [
    "d"
   ]
  },
  {
   "cell_type": "code",
   "execution_count": 71,
   "metadata": {
    "collapsed": true
   },
   "outputs": [
    {
     "data": {
      "text/plain": [
       "[<matplotlib.lines.Line2D at 0x1ccb027e278>]"
      ]
     },
     "execution_count": 71,
     "metadata": {},
     "output_type": "execute_result"
    },
    {
     "data": {
      "image/png": "[encoded data removed]",
      "text/plain": [
       "<Figure size 432x288 with 1 Axes>"
      ]
     },
     "metadata": {
      "needs_background": "light"
     },
     "output_type": "display_data"
    }
   ],
   "source": [
    "plt.plot(list(d.keys()),list(d.values()))"
   ]
  },
  {
   "cell_type": "code",
   "execution_count": null,
   "metadata": {},
   "outputs": [],
   "source": []
  }
 ],
 "metadata": {
  "kernelspec": {
   "display_name": "Python 3",
   "language": "python",
   "name": "python3"
  },
  "language_info": {
   "codemirror_mode": {
    "name": "ipython",
    "version": 3
   },
   "file_extension": ".py",
   "mimetype": "text/x-python",
   "name": "python",
   "nbconvert_exporter": "python",
   "pygments_lexer": "ipython3",
   "version": "3.7.0"
  }
 },
 "nbformat": 4,
 "nbformat_minor": 2
}
